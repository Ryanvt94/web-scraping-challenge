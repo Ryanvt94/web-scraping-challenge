{
 "cells": [
  {
   "cell_type": "code",
   "execution_count": null,
   "metadata": {},
   "outputs": [],
   "source": [
    "#Set up dependencies\n",
    "from splinter import Browser\n",
    "from bs4 import BeautifulSoup as bs\n",
    "import pandas as pd"
   ]
  },
  {
   "cell_type": "code",
   "execution_count": null,
   "metadata": {},
   "outputs": [],
   "source": [
    "#mars news"
   ]
  },
  {
   "cell_type": "code",
   "execution_count": null,
   "metadata": {},
   "outputs": [],
   "source": [
    "# Setting up path for Browser splinter\n",
    "executable_path = {'executable_path': '/usr/local/bin/chromedriver'}\n",
    "browser = Browser('chrome', **executable_path, headless=False)"
   ]
  },
  {
   "cell_type": "code",
   "execution_count": null,
   "metadata": {},
   "outputs": [],
   "source": [
    "# Visting url througher splinter browser\n",
    "url = 'https://mars.nasa.gov/news/'\n",
    "browser.visit(url)\n",
    "\n",
    "# Using Beatiful soup to parse the html in the designated url\n",
    "html = browser.html\n",
    "soup = bs(html, \"html.parser\")"
   ]
  },
  {
   "cell_type": "code",
   "execution_count": null,
   "metadata": {},
   "outputs": [],
   "source": [
    "# Get the date, title, and content text in the latest news\n",
    "news_date = soup.find('div', class_='list_date').text\n",
    "news_title = soup.find('div', class_='content_title').text\n",
    "news_p = soup.find('div', class_='article_teaser_body').text\n",
    "\n",
    "print(f'news_date : {news_date}')\n",
    "print(f'news_title : {news_title}')\n",
    "print (f'news_p : {news_p}')\n",
    "print (' ')"
   ]
  },
  {
   "cell_type": "code",
   "execution_count": null,
   "metadata": {},
   "outputs": [],
   "source": [
    "# Close the browser after scraping\n",
    "browser.quit()"
   ]
  },
  {
   "cell_type": "code",
   "execution_count": null,
   "metadata": {},
   "outputs": [],
   "source": [
    "#mars space images"
   ]
  },
  {
   "cell_type": "code",
   "execution_count": null,
   "metadata": {},
   "outputs": [],
   "source": [
    "\n",
    "executable_path = {'executable_path': '/usr/local/bin/chromedriver'}\n",
    "browser = Browser('chrome', **executable_path, headless=False)"
   ]
  },
  {
   "cell_type": "code",
   "execution_count": null,
   "metadata": {},
   "outputs": [],
   "source": [
    "# Visting url througher splinter browser\n",
    "url = 'https://www.jpl.nasa.gov/spaceimages/?search=&category=Mars'\n",
    "browser.visit(url)\n",
    "\n",
    "# Using Beatiful soup to parse the html in the designated url\n",
    "html = browser.html\n",
    "soup = bs(html, \"html5\")\n",
    "# print(soup.prettify())"
   ]
  },
  {
   "cell_type": "code",
   "execution_count": null,
   "metadata": {},
   "outputs": [],
   "source": [
    "# Get the image url for the JPL Deatures space image\n",
    "featured_image_tag = soup.find('article', class_='carousel_item')['style']\n",
    "featured_image_url = featured_image_tag.split(\"url\")[1]\n",
    "featured_image_url = featured_image_url.split(\"'\")[1]\n",
    "featured_image_url = ('https://www.jpl.nasa.gov' + str(featured_image_url))\n",
    "\n",
    "featured_image_url"
   ]
  },
  {
   "cell_type": "code",
   "execution_count": null,
   "metadata": {},
   "outputs": [],
   "source": [
    "# Close the browser after scraping\n",
    "browser.quit()"
   ]
  },
  {
   "cell_type": "code",
   "execution_count": null,
   "metadata": {},
   "outputs": [],
   "source": [
    "#mars facts"
   ]
  },
  {
   "cell_type": "code",
   "execution_count": null,
   "metadata": {},
   "outputs": [],
   "source": [
    "#use the read_html function in Pandas to automatically scrape any tabular data from a page\n",
    "url = 'http://space-facts.com/mars/'\n",
    "mars_facts_table = pd.read_html(url)\n",
    "mars_facts_table"
   ]
  },
  {
   "cell_type": "code",
   "execution_count": null,
   "metadata": {},
   "outputs": [],
   "source": [
    "# We can slice off any of those dataframes that we want using normal indexing.\n",
    "mars_facts_df = mars_facts_table[0]\n",
    "mars_facts_df.columns = ['Measurement', 'Unit']\n",
    "mars_facts_df "
   ]
  },
  {
   "cell_type": "code",
   "execution_count": null,
   "metadata": {},
   "outputs": [],
   "source": [
    "# Use a to_html method to generate HTML tables from DataFrames\n",
    "mars_facts_html_table = mars_facts_df.to_html(index=False)\n",
    "mars_facts_html_table"
   ]
  },
  {
   "cell_type": "code",
   "execution_count": null,
   "metadata": {},
   "outputs": [],
   "source": [
    "#mars hemispheres\n",
    "\n",
    "#cerberus hemisphere enhanced"
   ]
  },
  {
   "cell_type": "code",
   "execution_count": null,
   "metadata": {},
   "outputs": [],
   "source": [
    "# Setting up path for Browser splinter\n",
    "executable_path = {'executable_path': '/usr/local/bin/chromedriver'}\n",
    "browser = Browser('chrome', **executable_path, headless=False)\n",
    "\n",
    "# Visting url througher splinter browser\n",
    "url = 'https://astrogeology.usgs.gov/search/map/Mars/Viking/cerberus_enhanced'\n",
    "browser.visit(url)\n",
    "\n",
    "# Using Beatiful soup to parse the html in the designated url\n",
    "html = browser.html\n",
    "soup = bs(html, \"html5\")\n",
    "# print(soup.prettify())"
   ]
  },
  {
   "cell_type": "code",
   "execution_count": null,
   "metadata": {},
   "outputs": [],
   "source": [
    "# Getting image url\n",
    "cerberus = soup.find('img', class_='wide-image')['src']\n",
    "cerberus_url = ('https://astrogeology.usgs.gov/' + str(cerberus)) \n",
    "cerberus_url"
   ]
  },
  {
   "cell_type": "code",
   "execution_count": null,
   "metadata": {},
   "outputs": [],
   "source": [
    "# Getting Hemisphere Name \n",
    "cerberus_title = soup.find('h2', class_='title').text\n",
    "cerberus_title"
   ]
  },
  {
   "cell_type": "code",
   "execution_count": null,
   "metadata": {},
   "outputs": [],
   "source": [
    "# Close the browser after scraping\n",
    "browser.quit()"
   ]
  },
  {
   "cell_type": "code",
   "execution_count": null,
   "metadata": {},
   "outputs": [],
   "source": [
    "#schiaparelli Hemisphere enhanced"
   ]
  },
  {
   "cell_type": "code",
   "execution_count": null,
   "metadata": {},
   "outputs": [],
   "source": [
    "# Setting up path for Browser splinter\n",
    "executable_path = {'executable_path': '/usr/local/bin/chromedriver'}\n",
    "browser = Browser('chrome', **executable_path, headless=False)\n",
    "\n",
    "# Visting url througher splinter browser\n",
    "url = 'https://astrogeology.usgs.gov/search/map/Mars/Viking/schiaparelli_enhanced'\n",
    "browser.visit(url)\n",
    "\n",
    "# Using Beatiful soup to parse the html in the designated url\n",
    "html = browser.html\n",
    "soup = bs(html, \"html5\")\n",
    "# print(soup.prettify())"
   ]
  },
  {
   "cell_type": "code",
   "execution_count": null,
   "metadata": {},
   "outputs": [],
   "source": [
    "# Getting image url\n",
    "schiaparelli = soup.find('img', class_='wide-image')['src']\n",
    "schiaparelli_url = ('https://astrogeology.usgs.gov/' + str(schiaparelli)) \n",
    "schiaparelli_url"
   ]
  },
  {
   "cell_type": "code",
   "execution_count": null,
   "metadata": {},
   "outputs": [],
   "source": [
    "# Getting Hemisphere Name \n",
    "schiaparelli_title = soup.find('h2', class_='title').text\n",
    "schiaparelli_title"
   ]
  },
  {
   "cell_type": "code",
   "execution_count": null,
   "metadata": {},
   "outputs": [],
   "source": [
    "# Close the browser after scraping\n",
    "browser.quit()"
   ]
  },
  {
   "cell_type": "code",
   "execution_count": null,
   "metadata": {},
   "outputs": [],
   "source": [
    "## syrtis major hemisphere enhanced"
   ]
  },
  {
   "cell_type": "code",
   "execution_count": null,
   "metadata": {},
   "outputs": [],
   "source": [
    "# Syrtis Major Hemisphere Enhanced\n",
    "\n",
    "# Setting up path for Browser splinter\n",
    "executable_path = {'executable_path': '/usr/local/bin/chromedriver'}\n",
    "browser = Browser('chrome', **executable_path, headless=False)\n",
    "\n",
    "# Visting url througher splinter browser\n",
    "url = 'https://astrogeology.usgs.gov/search/map/Mars/Viking/syrtis_major_enhanced'\n",
    "browser.visit(url)\n",
    "\n",
    "html = browser.html\n",
    "soup = bs(html, \"html5\")\n",
    "# print(soup.prettify())"
   ]
  },
  {
   "cell_type": "code",
   "execution_count": null,
   "metadata": {},
   "outputs": [],
   "source": [
    "# Getting image url\n",
    "syrtis_major = soup.find('img', class_='wide-image')['src']\n",
    "syrtis_major_url = ('https://astrogeology.usgs.gov/' + str(syrtis_major)) \n",
    "syrtis_major_url"
   ]
  },
  {
   "cell_type": "code",
   "execution_count": null,
   "metadata": {},
   "outputs": [],
   "source": [
    "# Getting Hemisphere Name \n",
    "syrtis_major_title = soup.find('h2', class_='title').text\n",
    "syrtis_major_title"
   ]
  },
  {
   "cell_type": "code",
   "execution_count": null,
   "metadata": {},
   "outputs": [],
   "source": [
    "# Close the browser after scraping\n",
    "browser.quit()"
   ]
  },
  {
   "cell_type": "code",
   "execution_count": null,
   "metadata": {},
   "outputs": [],
   "source": [
    "## valles marineris hemisphere enhanced"
   ]
  },
  {
   "cell_type": "code",
   "execution_count": null,
   "metadata": {},
   "outputs": [],
   "source": [
    "# Setting up path for Browser splinter\n",
    "executable_path = {'executable_path': '/usr/local/bin/chromedriver'}\n",
    "browser = Browser('chrome', **executable_path, headless=False)\n",
    "\n",
    "# Visting url througher splinter browser\n",
    "url = 'https://astrogeology.usgs.gov/search/map/Mars/Viking/valles_marineris_enhanced'\n",
    "browser.visit(url)\n",
    "\n",
    "html = browser.html\n",
    "soup = bs(html, \"html5\")\n",
    "# print(soup.prettify())"
   ]
  },
  {
   "cell_type": "code",
   "execution_count": null,
   "metadata": {},
   "outputs": [],
   "source": [
    "# Getting image url\n",
    "valles_marineris = soup.find('img', class_='wide-image')['src']\n",
    "valles_marineris_url = ('https://astrogeology.usgs.gov/' + str(valles_marineris)) \n",
    "valles_marineris_url"
   ]
  },
  {
   "cell_type": "code",
   "execution_count": null,
   "metadata": {},
   "outputs": [],
   "source": [
    "# Getting Hemisphere Name \n",
    "valles_marineris_title = soup.find('h2', class_='title').text\n",
    "valles_marineris_title"
   ]
  },
  {
   "cell_type": "code",
   "execution_count": null,
   "metadata": {},
   "outputs": [],
   "source": [
    "# Close the browser after scraping\n",
    "browser.quit()"
   ]
  },
  {
   "cell_type": "code",
   "execution_count": null,
   "metadata": {},
   "outputs": [],
   "source": [
    "##mars hemisphere list"
   ]
  },
  {
   "cell_type": "code",
   "execution_count": null,
   "metadata": {},
   "outputs": [],
   "source": [
    "# Creating dictionary for each hemisphere title and image url\n",
    "cerberus_dict ={\n",
    "    'title': cerberus_title,\n",
    "    'img_url': cerberus_url\n",
    "}\n",
    "schiaparelli_dict ={\n",
    "    'title': schiaparelli_title,\n",
    "    'img_url': schiaparelli_url\n",
    "}\n",
    "syrtis_major_dict ={\n",
    "    'title': syrtis_major_title,\n",
    "    'img_url': syrtis_major_url\n",
    "}\n",
    "valles_marineris_dict ={\n",
    "    'title': valles_marineris_title,\n",
    "    'img_url': valles_marineris_url\n",
    "}"
   ]
  },
  {
   "cell_type": "code",
   "execution_count": null,
   "metadata": {},
   "outputs": [],
   "source": [
    "# Creating a list to store all of the hemisphere dictionaries\n",
    "hemisphere_image_urls= []\n",
    "\n",
    "hemisphere_image_urls.append(cerberus_dict)\n",
    "hemisphere_image_urls.append(schiaparelli_dict)\n",
    "hemisphere_image_urls.append(syrtis_major_dict)\n",
    "hemisphere_image_urls.append(valles_marineris_dict)\n",
    "\n",
    "hemisphere_image_urls"
   ]
  },
  {
   "cell_type": "markdown",
   "metadata": {},
   "source": []
  },
  {
   "cell_type": "code",
   "execution_count": null,
   "metadata": {},
   "outputs": [],
   "source": []
  }
 ],
 "metadata": {
  "kernelspec": {
   "display_name": "Python 3.9.7 ('base')",
   "language": "python",
   "name": "python3"
  },
  "language_info": {
   "codemirror_mode": {
    "name": "ipython",
    "version": 3
   },
   "file_extension": ".py",
   "mimetype": "text/x-python",
   "name": "python",
   "nbconvert_exporter": "python",
   "pygments_lexer": "ipython3",
   "version": "3.9.7"
  },
  "orig_nbformat": 4,
  "vscode": {
   "interpreter": {
    "hash": "e6951f07677df54dddd9ef0d534345703e614928d58290cd8803d1cea46695dc"
   }
  }
 },
 "nbformat": 4,
 "nbformat_minor": 2
}
